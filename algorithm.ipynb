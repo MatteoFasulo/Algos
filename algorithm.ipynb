{
 "cells": [
  {
   "cell_type": "code",
   "execution_count": 69,
   "metadata": {
    "collapsed": true
   },
   "outputs": [
    {
     "data": {
      "text/plain": "      ANNO  CODICE REGIONE DENOMINAZIONE REGIONE  CODICE AZIENDA  \\\n0     2010              10              PIEMONTE             201   \n1     2010              10              PIEMONTE             202   \n2     2010              10              PIEMONTE             203   \n3     2010              10              PIEMONTE             204   \n4     2010              10              PIEMONTE             205   \n...    ...             ...                   ...             ...   \n1376  2020             190               SICILIA             206   \n1377  2020             190               SICILIA             207   \n1378  2020             190               SICILIA             208   \n1379  2020             190               SICILIA             209   \n1380  2020             200              SARDEGNA             201   \n\n                   DENOMINAZIONE AZIENDA                        INDIRIZZO  \\\n0                                    TO1           VIA S.SECONDO 29         \n1                                    TO2          CORSO SVIZZERA 164        \n2                                    TO3  VIA MARTIRI XXX APRILE 30         \n3                                    TO4                  Via Po 11         \n4                                    TO5        VIA SAN DOMENICO 21         \n...                                  ...                              ...   \n1376                         ASP PALERMO          VIA G. CUSMANO 24         \n1377                          ASP RAGUSA                     P.ZZA IGEA 1   \n1378                        ASP SIRACUSA                   C.SO GELONE 17   \n1379                      ASP DI TRAPANI             VIA MAZZINI 1          \n1380  AZIENDA PER LA TUTELA DELLA SALUTE        VIA MONTE GRAPPA 82         \n\n        CAP    COMUNE SIGLA PROVINCIA     TELEFONO          FAX  \\\n0     10128    TORINO              TO          NaN          NaN   \n1     10149    TORINO              TO          NaN          NaN   \n2     10093  COLLEGNO              TO          NaN          NaN   \n3     10034  CHIVASSO              TO          NaN          NaN   \n4     10023    CHIERI              TO          NaN          NaN   \n...     ...       ...             ...          ...          ...   \n1376  90100   PALERMO              PA  091 6661111  091 6661111   \n1377  97100    RAGUSA              RG   0932600111   0932600111   \n1378  96100  SIRACUSA              SR   0931724111   0931724111   \n1379  91100   TRAPANI              TP   0923805111   0923805111   \n1380   7100   SASSARI              SS   0792061907   0792061907   \n\n                                      E-MAIL            SITO WEB   PARTITA IVA  \n0                                        NaN                 NaN           NaN  \n1                                        NaN                 NaN           NaN  \n2                                        NaN                 NaN           NaN  \n3                                        NaN                 NaN           NaN  \n4                                        NaN                 NaN           NaN  \n...                                      ...                 ...           ...  \n1376                             sil@asl6.it         www.asl6.it  5.841761e+09  \n1377                             sil@asl7.it         www.asl7.it  1.426411e+09  \n1378                             sil@asl8.it         www.asp8.it  1.661591e+09  \n1379                     office@astrapani.it   www.asltrapani.it  2.363281e+09  \n1380  protocollo.generale@pec.atssardegna.it  www.atssardegna.it  9.356509e+08  \n\n[1381 rows x 14 columns]",
      "text/html": "<div>\n<style scoped>\n    .dataframe tbody tr th:only-of-type {\n        vertical-align: middle;\n    }\n\n    .dataframe tbody tr th {\n        vertical-align: top;\n    }\n\n    .dataframe thead th {\n        text-align: right;\n    }\n</style>\n<table border=\"1\" class=\"dataframe\">\n  <thead>\n    <tr style=\"text-align: right;\">\n      <th></th>\n      <th>ANNO</th>\n      <th>CODICE REGIONE</th>\n      <th>DENOMINAZIONE REGIONE</th>\n      <th>CODICE AZIENDA</th>\n      <th>DENOMINAZIONE AZIENDA</th>\n      <th>INDIRIZZO</th>\n      <th>CAP</th>\n      <th>COMUNE</th>\n      <th>SIGLA PROVINCIA</th>\n      <th>TELEFONO</th>\n      <th>FAX</th>\n      <th>E-MAIL</th>\n      <th>SITO WEB</th>\n      <th>PARTITA IVA</th>\n    </tr>\n  </thead>\n  <tbody>\n    <tr>\n      <th>0</th>\n      <td>2010</td>\n      <td>10</td>\n      <td>PIEMONTE</td>\n      <td>201</td>\n      <td>TO1</td>\n      <td>VIA S.SECONDO 29</td>\n      <td>10128</td>\n      <td>TORINO</td>\n      <td>TO</td>\n      <td>NaN</td>\n      <td>NaN</td>\n      <td>NaN</td>\n      <td>NaN</td>\n      <td>NaN</td>\n    </tr>\n    <tr>\n      <th>1</th>\n      <td>2010</td>\n      <td>10</td>\n      <td>PIEMONTE</td>\n      <td>202</td>\n      <td>TO2</td>\n      <td>CORSO SVIZZERA 164</td>\n      <td>10149</td>\n      <td>TORINO</td>\n      <td>TO</td>\n      <td>NaN</td>\n      <td>NaN</td>\n      <td>NaN</td>\n      <td>NaN</td>\n      <td>NaN</td>\n    </tr>\n    <tr>\n      <th>2</th>\n      <td>2010</td>\n      <td>10</td>\n      <td>PIEMONTE</td>\n      <td>203</td>\n      <td>TO3</td>\n      <td>VIA MARTIRI XXX APRILE 30</td>\n      <td>10093</td>\n      <td>COLLEGNO</td>\n      <td>TO</td>\n      <td>NaN</td>\n      <td>NaN</td>\n      <td>NaN</td>\n      <td>NaN</td>\n      <td>NaN</td>\n    </tr>\n    <tr>\n      <th>3</th>\n      <td>2010</td>\n      <td>10</td>\n      <td>PIEMONTE</td>\n      <td>204</td>\n      <td>TO4</td>\n      <td>Via Po 11</td>\n      <td>10034</td>\n      <td>CHIVASSO</td>\n      <td>TO</td>\n      <td>NaN</td>\n      <td>NaN</td>\n      <td>NaN</td>\n      <td>NaN</td>\n      <td>NaN</td>\n    </tr>\n    <tr>\n      <th>4</th>\n      <td>2010</td>\n      <td>10</td>\n      <td>PIEMONTE</td>\n      <td>205</td>\n      <td>TO5</td>\n      <td>VIA SAN DOMENICO 21</td>\n      <td>10023</td>\n      <td>CHIERI</td>\n      <td>TO</td>\n      <td>NaN</td>\n      <td>NaN</td>\n      <td>NaN</td>\n      <td>NaN</td>\n      <td>NaN</td>\n    </tr>\n    <tr>\n      <th>...</th>\n      <td>...</td>\n      <td>...</td>\n      <td>...</td>\n      <td>...</td>\n      <td>...</td>\n      <td>...</td>\n      <td>...</td>\n      <td>...</td>\n      <td>...</td>\n      <td>...</td>\n      <td>...</td>\n      <td>...</td>\n      <td>...</td>\n      <td>...</td>\n    </tr>\n    <tr>\n      <th>1376</th>\n      <td>2020</td>\n      <td>190</td>\n      <td>SICILIA</td>\n      <td>206</td>\n      <td>ASP PALERMO</td>\n      <td>VIA G. CUSMANO 24</td>\n      <td>90100</td>\n      <td>PALERMO</td>\n      <td>PA</td>\n      <td>091 6661111</td>\n      <td>091 6661111</td>\n      <td>sil@asl6.it</td>\n      <td>www.asl6.it</td>\n      <td>5.841761e+09</td>\n    </tr>\n    <tr>\n      <th>1377</th>\n      <td>2020</td>\n      <td>190</td>\n      <td>SICILIA</td>\n      <td>207</td>\n      <td>ASP RAGUSA</td>\n      <td>P.ZZA IGEA 1</td>\n      <td>97100</td>\n      <td>RAGUSA</td>\n      <td>RG</td>\n      <td>0932600111</td>\n      <td>0932600111</td>\n      <td>sil@asl7.it</td>\n      <td>www.asl7.it</td>\n      <td>1.426411e+09</td>\n    </tr>\n    <tr>\n      <th>1378</th>\n      <td>2020</td>\n      <td>190</td>\n      <td>SICILIA</td>\n      <td>208</td>\n      <td>ASP SIRACUSA</td>\n      <td>C.SO GELONE 17</td>\n      <td>96100</td>\n      <td>SIRACUSA</td>\n      <td>SR</td>\n      <td>0931724111</td>\n      <td>0931724111</td>\n      <td>sil@asl8.it</td>\n      <td>www.asp8.it</td>\n      <td>1.661591e+09</td>\n    </tr>\n    <tr>\n      <th>1379</th>\n      <td>2020</td>\n      <td>190</td>\n      <td>SICILIA</td>\n      <td>209</td>\n      <td>ASP DI TRAPANI</td>\n      <td>VIA MAZZINI 1</td>\n      <td>91100</td>\n      <td>TRAPANI</td>\n      <td>TP</td>\n      <td>0923805111</td>\n      <td>0923805111</td>\n      <td>office@astrapani.it</td>\n      <td>www.asltrapani.it</td>\n      <td>2.363281e+09</td>\n    </tr>\n    <tr>\n      <th>1380</th>\n      <td>2020</td>\n      <td>200</td>\n      <td>SARDEGNA</td>\n      <td>201</td>\n      <td>AZIENDA PER LA TUTELA DELLA SALUTE</td>\n      <td>VIA MONTE GRAPPA 82</td>\n      <td>7100</td>\n      <td>SASSARI</td>\n      <td>SS</td>\n      <td>0792061907</td>\n      <td>0792061907</td>\n      <td>protocollo.generale@pec.atssardegna.it</td>\n      <td>www.atssardegna.it</td>\n      <td>9.356509e+08</td>\n    </tr>\n  </tbody>\n</table>\n<p>1381 rows × 14 columns</p>\n</div>"
     },
     "execution_count": 69,
     "metadata": {},
     "output_type": "execute_result"
    }
   ],
   "source": [
    "import numpy as np\n",
    "import pandas as pd\n",
    "df = pd.read_excel(\"./data/C_17_bancheDati_13_0_0_file.xls\")\n",
    "df"
   ]
  },
  {
   "cell_type": "markdown",
   "source": [
    "Clear the dataset to last year"
   ],
   "metadata": {
    "collapsed": false
   }
  },
  {
   "cell_type": "code",
   "execution_count": 15,
   "outputs": [
    {
     "data": {
      "text/plain": "      ANNO  CODICE REGIONE DENOMINAZIONE REGIONE  CODICE AZIENDA  \\\n1282  2020              10              PIEMONTE             203   \n1283  2020              10              PIEMONTE             204   \n1284  2020              10              PIEMONTE             205   \n1285  2020              10              PIEMONTE             206   \n1286  2020              10              PIEMONTE             207   \n...    ...             ...                   ...             ...   \n1376  2020             190               SICILIA             206   \n1377  2020             190               SICILIA             207   \n1378  2020             190               SICILIA             208   \n1379  2020             190               SICILIA             209   \n1380  2020             200              SARDEGNA             201   \n\n                   DENOMINAZIONE AZIENDA                        INDIRIZZO  \\\n1282                                 TO3  VIA MARTIRI XXX APRILE 30         \n1283                                 TO4                  Via Po 11         \n1284                                 TO5        VIA SAN DOMENICO 21         \n1285                                  VC      C.SO MARIO ABBIATE 21         \n1286                                  BI     VIA DEI PONDERANESI 2          \n...                                  ...                              ...   \n1376                         ASP PALERMO          VIA G. CUSMANO 24         \n1377                          ASP RAGUSA                     P.ZZA IGEA 1   \n1378                        ASP SIRACUSA                   C.SO GELONE 17   \n1379                      ASP DI TRAPANI             VIA MAZZINI 1          \n1380  AZIENDA PER LA TUTELA DELLA SALUTE        VIA MONTE GRAPPA 82         \n\n        CAP     COMUNE SIGLA PROVINCIA     TELEFONO           FAX  \\\n1282  10093   COLLEGNO              TO     01140171    0114017277   \n1283  10034   CHIVASSO              TO   0119176666    0119176322   \n1284  10023     CHIERI              TO    011 94291  011 94293268   \n1285  13100   VERCELLI              VC    0161 5931   0161/210284   \n1286  13875  PONDERANO              BI     01535031   015 3503545   \n...     ...        ...             ...          ...           ...   \n1376  90100    PALERMO              PA  091 6661111   091 6661111   \n1377  97100     RAGUSA              RG   0932600111    0932600111   \n1378  96100   SIRACUSA              SR   0931724111    0931724111   \n1379  91100    TRAPANI              TP   0923805111    0923805111   \n1380   7100    SASSARI              SS   0792061907    0792061907   \n\n                                         E-MAIL                SITO WEB  \\\n1282             aslto3@cert.aslto3.piemonte.it  www.aslto3.piemonte.it   \n1283              direzione.generale@asl7.to.it     www.asl.ivrea.to.it   \n1284         protocollo@cert.aslto5.piemonte.it    www.asl8.piemonte.it   \n1285          affari.generali@asl11.piemonte.it   www.asl11.piemonte.it   \n1286  ufficio.protocollo@cert.aslbi.piemonte.it  www2.aslbi.piemonte.it   \n...                                         ...                     ...   \n1376                                sil@asl6.it             www.asl6.it   \n1377                                sil@asl7.it             www.asl7.it   \n1378                                sil@asl8.it             www.asp8.it   \n1379                        office@astrapani.it       www.asltrapani.it   \n1380     protocollo.generale@pec.atssardegna.it      www.atssardegna.it   \n\n       PARTITA IVA  \n1282  2.704350e+09  \n1283  9.736160e+09  \n1284  6.827170e+09  \n1285  1.811110e+09  \n1286  1.810260e+09  \n...            ...  \n1376  5.841761e+09  \n1377  1.426411e+09  \n1378  1.661591e+09  \n1379  2.363281e+09  \n1380  9.356509e+08  \n\n[99 rows x 14 columns]",
      "text/html": "<div>\n<style scoped>\n    .dataframe tbody tr th:only-of-type {\n        vertical-align: middle;\n    }\n\n    .dataframe tbody tr th {\n        vertical-align: top;\n    }\n\n    .dataframe thead th {\n        text-align: right;\n    }\n</style>\n<table border=\"1\" class=\"dataframe\">\n  <thead>\n    <tr style=\"text-align: right;\">\n      <th></th>\n      <th>ANNO</th>\n      <th>CODICE REGIONE</th>\n      <th>DENOMINAZIONE REGIONE</th>\n      <th>CODICE AZIENDA</th>\n      <th>DENOMINAZIONE AZIENDA</th>\n      <th>INDIRIZZO</th>\n      <th>CAP</th>\n      <th>COMUNE</th>\n      <th>SIGLA PROVINCIA</th>\n      <th>TELEFONO</th>\n      <th>FAX</th>\n      <th>E-MAIL</th>\n      <th>SITO WEB</th>\n      <th>PARTITA IVA</th>\n    </tr>\n  </thead>\n  <tbody>\n    <tr>\n      <th>1282</th>\n      <td>2020</td>\n      <td>10</td>\n      <td>PIEMONTE</td>\n      <td>203</td>\n      <td>TO3</td>\n      <td>VIA MARTIRI XXX APRILE 30</td>\n      <td>10093</td>\n      <td>COLLEGNO</td>\n      <td>TO</td>\n      <td>01140171</td>\n      <td>0114017277</td>\n      <td>aslto3@cert.aslto3.piemonte.it</td>\n      <td>www.aslto3.piemonte.it</td>\n      <td>2.704350e+09</td>\n    </tr>\n    <tr>\n      <th>1283</th>\n      <td>2020</td>\n      <td>10</td>\n      <td>PIEMONTE</td>\n      <td>204</td>\n      <td>TO4</td>\n      <td>Via Po 11</td>\n      <td>10034</td>\n      <td>CHIVASSO</td>\n      <td>TO</td>\n      <td>0119176666</td>\n      <td>0119176322</td>\n      <td>direzione.generale@asl7.to.it</td>\n      <td>www.asl.ivrea.to.it</td>\n      <td>9.736160e+09</td>\n    </tr>\n    <tr>\n      <th>1284</th>\n      <td>2020</td>\n      <td>10</td>\n      <td>PIEMONTE</td>\n      <td>205</td>\n      <td>TO5</td>\n      <td>VIA SAN DOMENICO 21</td>\n      <td>10023</td>\n      <td>CHIERI</td>\n      <td>TO</td>\n      <td>011 94291</td>\n      <td>011 94293268</td>\n      <td>protocollo@cert.aslto5.piemonte.it</td>\n      <td>www.asl8.piemonte.it</td>\n      <td>6.827170e+09</td>\n    </tr>\n    <tr>\n      <th>1285</th>\n      <td>2020</td>\n      <td>10</td>\n      <td>PIEMONTE</td>\n      <td>206</td>\n      <td>VC</td>\n      <td>C.SO MARIO ABBIATE 21</td>\n      <td>13100</td>\n      <td>VERCELLI</td>\n      <td>VC</td>\n      <td>0161 5931</td>\n      <td>0161/210284</td>\n      <td>affari.generali@asl11.piemonte.it</td>\n      <td>www.asl11.piemonte.it</td>\n      <td>1.811110e+09</td>\n    </tr>\n    <tr>\n      <th>1286</th>\n      <td>2020</td>\n      <td>10</td>\n      <td>PIEMONTE</td>\n      <td>207</td>\n      <td>BI</td>\n      <td>VIA DEI PONDERANESI 2</td>\n      <td>13875</td>\n      <td>PONDERANO</td>\n      <td>BI</td>\n      <td>01535031</td>\n      <td>015 3503545</td>\n      <td>ufficio.protocollo@cert.aslbi.piemonte.it</td>\n      <td>www2.aslbi.piemonte.it</td>\n      <td>1.810260e+09</td>\n    </tr>\n    <tr>\n      <th>...</th>\n      <td>...</td>\n      <td>...</td>\n      <td>...</td>\n      <td>...</td>\n      <td>...</td>\n      <td>...</td>\n      <td>...</td>\n      <td>...</td>\n      <td>...</td>\n      <td>...</td>\n      <td>...</td>\n      <td>...</td>\n      <td>...</td>\n      <td>...</td>\n    </tr>\n    <tr>\n      <th>1376</th>\n      <td>2020</td>\n      <td>190</td>\n      <td>SICILIA</td>\n      <td>206</td>\n      <td>ASP PALERMO</td>\n      <td>VIA G. CUSMANO 24</td>\n      <td>90100</td>\n      <td>PALERMO</td>\n      <td>PA</td>\n      <td>091 6661111</td>\n      <td>091 6661111</td>\n      <td>sil@asl6.it</td>\n      <td>www.asl6.it</td>\n      <td>5.841761e+09</td>\n    </tr>\n    <tr>\n      <th>1377</th>\n      <td>2020</td>\n      <td>190</td>\n      <td>SICILIA</td>\n      <td>207</td>\n      <td>ASP RAGUSA</td>\n      <td>P.ZZA IGEA 1</td>\n      <td>97100</td>\n      <td>RAGUSA</td>\n      <td>RG</td>\n      <td>0932600111</td>\n      <td>0932600111</td>\n      <td>sil@asl7.it</td>\n      <td>www.asl7.it</td>\n      <td>1.426411e+09</td>\n    </tr>\n    <tr>\n      <th>1378</th>\n      <td>2020</td>\n      <td>190</td>\n      <td>SICILIA</td>\n      <td>208</td>\n      <td>ASP SIRACUSA</td>\n      <td>C.SO GELONE 17</td>\n      <td>96100</td>\n      <td>SIRACUSA</td>\n      <td>SR</td>\n      <td>0931724111</td>\n      <td>0931724111</td>\n      <td>sil@asl8.it</td>\n      <td>www.asp8.it</td>\n      <td>1.661591e+09</td>\n    </tr>\n    <tr>\n      <th>1379</th>\n      <td>2020</td>\n      <td>190</td>\n      <td>SICILIA</td>\n      <td>209</td>\n      <td>ASP DI TRAPANI</td>\n      <td>VIA MAZZINI 1</td>\n      <td>91100</td>\n      <td>TRAPANI</td>\n      <td>TP</td>\n      <td>0923805111</td>\n      <td>0923805111</td>\n      <td>office@astrapani.it</td>\n      <td>www.asltrapani.it</td>\n      <td>2.363281e+09</td>\n    </tr>\n    <tr>\n      <th>1380</th>\n      <td>2020</td>\n      <td>200</td>\n      <td>SARDEGNA</td>\n      <td>201</td>\n      <td>AZIENDA PER LA TUTELA DELLA SALUTE</td>\n      <td>VIA MONTE GRAPPA 82</td>\n      <td>7100</td>\n      <td>SASSARI</td>\n      <td>SS</td>\n      <td>0792061907</td>\n      <td>0792061907</td>\n      <td>protocollo.generale@pec.atssardegna.it</td>\n      <td>www.atssardegna.it</td>\n      <td>9.356509e+08</td>\n    </tr>\n  </tbody>\n</table>\n<p>99 rows × 14 columns</p>\n</div>"
     },
     "execution_count": 15,
     "metadata": {},
     "output_type": "execute_result"
    }
   ],
   "source": [
    "df_clean = df[df[\"ANNO\"] == 2020]\n",
    "df_clean\n"
   ],
   "metadata": {
    "collapsed": false,
    "pycharm": {
     "name": "#%%\n"
    }
   }
  },
  {
   "cell_type": "code",
   "execution_count": 24,
   "outputs": [
    {
     "data": {
      "text/plain": "array(['PIEMONTE', \"VALLE D'AOSTA\", 'LOMBARDIA', 'PROV. AUTON. BOLZANO',\n       'PROV. AUTON. TRENTO', 'VENETO', 'FRIULI VENEZIA GIULIA',\n       'LIGURIA', 'EMILIA ROMAGNA', 'TOSCANA', 'UMBRIA', 'MARCHE',\n       'LAZIO', 'ABRUZZO', 'MOLISE', 'CAMPANIA', 'PUGLIA', 'BASILICATA',\n       'CALABRIA', 'SICILIA', 'SARDEGNA'], dtype=object)"
     },
     "execution_count": 24,
     "metadata": {},
     "output_type": "execute_result"
    }
   ],
   "source": [
    "regioni = df_clean[\"DENOMINAZIONE REGIONE\"].unique()\n",
    "regioni\n"
   ],
   "metadata": {
    "collapsed": false,
    "pycharm": {
     "name": "#%%\n"
    }
   }
  },
  {
   "cell_type": "code",
   "execution_count": 237,
   "outputs": [],
   "source": [
    "comuni = df_clean[\"COMUNE\"].unique()\n",
    "comuni\n",
    "lista_comuni = df_clean[\"COMUNE\"].unique().tolist()\n",
    "for i in range(0, len(lista_comuni)):\n",
    "    lista_comuni[i] = lista_comuni[i].strip()\n",
    "#print(lista_comuni)\n",
    "#df_clean[\"COMUNE\"].value_counts()"
   ],
   "metadata": {
    "collapsed": false,
    "pycharm": {
     "name": "#%%\n"
    }
   }
  },
  {
   "cell_type": "code",
   "execution_count": 241,
   "outputs": [],
   "source": [
    "geo = pd.read_json(\"./data/italy_geo.json\")\n",
    "def search_comune(comune : str):\n",
    "    try:\n",
    "        comune = comune.lower().strip()\n",
    "        geo[\"comune\"] = geo[\"comune\"].str.lower()\n",
    "        lat = geo[geo[\"comune\"] == comune][\"lat\"].values[0]\n",
    "        long = geo[geo[\"comune\"] == comune][\"lng\"].values[0]\n",
    "        return(long, lat)\n",
    "    except IndexError:\n",
    "        print(comune, geo[geo[\"comune\"] == comune][\"lat\"],geo[geo[\"comune\"] == comune][\"lng\"])\n"
   ],
   "metadata": {
    "collapsed": false,
    "pycharm": {
     "name": "#%%\n"
    }
   }
  },
  {
   "cell_type": "code",
   "execution_count": 240,
   "outputs": [
    {
     "data": {
      "text/plain": "           COLLEGNO  CHIVASSO  CHIERI  VERCELLI  PONDERANO  NOVARA  OMEGNA  \\\nCOLLEGNO        0.0       0.0     0.0       0.0        0.0     0.0     0.0   \nCHIVASSO        0.0       0.0     0.0       0.0        0.0     0.0     0.0   \nCHIERI          0.0       0.0     0.0       0.0        0.0     0.0     0.0   \nVERCELLI        0.0       0.0     0.0       0.0        0.0     0.0     0.0   \nPONDERANO       0.0       0.0     0.0       0.0        0.0     0.0     0.0   \n...             ...       ...     ...       ...        ...     ...     ...   \nPALERMO         0.0       0.0     0.0       0.0        0.0     0.0     0.0   \nRAGUSA          0.0       0.0     0.0       0.0        0.0     0.0     0.0   \nSIRACUSA        0.0       0.0     0.0       0.0        0.0     0.0     0.0   \nTRAPANI         0.0       0.0     0.0       0.0        0.0     0.0     0.0   \nSASSARI         0.0       0.0     0.0       0.0        0.0     0.0     0.0   \n\n           CUNEO  ALBA  ASTI  ...  AGRIGENTO  CALTANISSETTA  CATANIA  ENNA  \\\nCOLLEGNO     0.0   0.0   0.0  ...        0.0            0.0      0.0   0.0   \nCHIVASSO     0.0   0.0   0.0  ...        0.0            0.0      0.0   0.0   \nCHIERI       0.0   0.0   0.0  ...        0.0            0.0      0.0   0.0   \nVERCELLI     0.0   0.0   0.0  ...        0.0            0.0      0.0   0.0   \nPONDERANO    0.0   0.0   0.0  ...        0.0            0.0      0.0   0.0   \n...          ...   ...   ...  ...        ...            ...      ...   ...   \nPALERMO      0.0   0.0   0.0  ...        0.0            0.0      0.0   0.0   \nRAGUSA       0.0   0.0   0.0  ...        0.0            0.0      0.0   0.0   \nSIRACUSA     0.0   0.0   0.0  ...        0.0            0.0      0.0   0.0   \nTRAPANI      0.0   0.0   0.0  ...        0.0            0.0      0.0   0.0   \nSASSARI      0.0   0.0   0.0  ...        0.0            0.0      0.0   0.0   \n\n           MESSINA  PALERMO  RAGUSA  SIRACUSA  TRAPANI  SASSARI  \nCOLLEGNO       0.0      0.0     0.0       0.0      0.0      0.0  \nCHIVASSO       0.0      0.0     0.0       0.0      0.0      0.0  \nCHIERI         0.0      0.0     0.0       0.0      0.0      0.0  \nVERCELLI       0.0      0.0     0.0       0.0      0.0      0.0  \nPONDERANO      0.0      0.0     0.0       0.0      0.0      0.0  \n...            ...      ...     ...       ...      ...      ...  \nPALERMO        0.0      0.0     0.0       0.0      0.0      0.0  \nRAGUSA         0.0      0.0     0.0       0.0      0.0      0.0  \nSIRACUSA       0.0      0.0     0.0       0.0      0.0      0.0  \nTRAPANI        0.0      0.0     0.0       0.0      0.0      0.0  \nSASSARI        0.0      0.0     0.0       0.0      0.0      0.0  \n\n[97 rows x 97 columns]",
      "text/html": "<div>\n<style scoped>\n    .dataframe tbody tr th:only-of-type {\n        vertical-align: middle;\n    }\n\n    .dataframe tbody tr th {\n        vertical-align: top;\n    }\n\n    .dataframe thead th {\n        text-align: right;\n    }\n</style>\n<table border=\"1\" class=\"dataframe\">\n  <thead>\n    <tr style=\"text-align: right;\">\n      <th></th>\n      <th>COLLEGNO</th>\n      <th>CHIVASSO</th>\n      <th>CHIERI</th>\n      <th>VERCELLI</th>\n      <th>PONDERANO</th>\n      <th>NOVARA</th>\n      <th>OMEGNA</th>\n      <th>CUNEO</th>\n      <th>ALBA</th>\n      <th>ASTI</th>\n      <th>...</th>\n      <th>AGRIGENTO</th>\n      <th>CALTANISSETTA</th>\n      <th>CATANIA</th>\n      <th>ENNA</th>\n      <th>MESSINA</th>\n      <th>PALERMO</th>\n      <th>RAGUSA</th>\n      <th>SIRACUSA</th>\n      <th>TRAPANI</th>\n      <th>SASSARI</th>\n    </tr>\n  </thead>\n  <tbody>\n    <tr>\n      <th>COLLEGNO</th>\n      <td>0.0</td>\n      <td>0.0</td>\n      <td>0.0</td>\n      <td>0.0</td>\n      <td>0.0</td>\n      <td>0.0</td>\n      <td>0.0</td>\n      <td>0.0</td>\n      <td>0.0</td>\n      <td>0.0</td>\n      <td>...</td>\n      <td>0.0</td>\n      <td>0.0</td>\n      <td>0.0</td>\n      <td>0.0</td>\n      <td>0.0</td>\n      <td>0.0</td>\n      <td>0.0</td>\n      <td>0.0</td>\n      <td>0.0</td>\n      <td>0.0</td>\n    </tr>\n    <tr>\n      <th>CHIVASSO</th>\n      <td>0.0</td>\n      <td>0.0</td>\n      <td>0.0</td>\n      <td>0.0</td>\n      <td>0.0</td>\n      <td>0.0</td>\n      <td>0.0</td>\n      <td>0.0</td>\n      <td>0.0</td>\n      <td>0.0</td>\n      <td>...</td>\n      <td>0.0</td>\n      <td>0.0</td>\n      <td>0.0</td>\n      <td>0.0</td>\n      <td>0.0</td>\n      <td>0.0</td>\n      <td>0.0</td>\n      <td>0.0</td>\n      <td>0.0</td>\n      <td>0.0</td>\n    </tr>\n    <tr>\n      <th>CHIERI</th>\n      <td>0.0</td>\n      <td>0.0</td>\n      <td>0.0</td>\n      <td>0.0</td>\n      <td>0.0</td>\n      <td>0.0</td>\n      <td>0.0</td>\n      <td>0.0</td>\n      <td>0.0</td>\n      <td>0.0</td>\n      <td>...</td>\n      <td>0.0</td>\n      <td>0.0</td>\n      <td>0.0</td>\n      <td>0.0</td>\n      <td>0.0</td>\n      <td>0.0</td>\n      <td>0.0</td>\n      <td>0.0</td>\n      <td>0.0</td>\n      <td>0.0</td>\n    </tr>\n    <tr>\n      <th>VERCELLI</th>\n      <td>0.0</td>\n      <td>0.0</td>\n      <td>0.0</td>\n      <td>0.0</td>\n      <td>0.0</td>\n      <td>0.0</td>\n      <td>0.0</td>\n      <td>0.0</td>\n      <td>0.0</td>\n      <td>0.0</td>\n      <td>...</td>\n      <td>0.0</td>\n      <td>0.0</td>\n      <td>0.0</td>\n      <td>0.0</td>\n      <td>0.0</td>\n      <td>0.0</td>\n      <td>0.0</td>\n      <td>0.0</td>\n      <td>0.0</td>\n      <td>0.0</td>\n    </tr>\n    <tr>\n      <th>PONDERANO</th>\n      <td>0.0</td>\n      <td>0.0</td>\n      <td>0.0</td>\n      <td>0.0</td>\n      <td>0.0</td>\n      <td>0.0</td>\n      <td>0.0</td>\n      <td>0.0</td>\n      <td>0.0</td>\n      <td>0.0</td>\n      <td>...</td>\n      <td>0.0</td>\n      <td>0.0</td>\n      <td>0.0</td>\n      <td>0.0</td>\n      <td>0.0</td>\n      <td>0.0</td>\n      <td>0.0</td>\n      <td>0.0</td>\n      <td>0.0</td>\n      <td>0.0</td>\n    </tr>\n    <tr>\n      <th>...</th>\n      <td>...</td>\n      <td>...</td>\n      <td>...</td>\n      <td>...</td>\n      <td>...</td>\n      <td>...</td>\n      <td>...</td>\n      <td>...</td>\n      <td>...</td>\n      <td>...</td>\n      <td>...</td>\n      <td>...</td>\n      <td>...</td>\n      <td>...</td>\n      <td>...</td>\n      <td>...</td>\n      <td>...</td>\n      <td>...</td>\n      <td>...</td>\n      <td>...</td>\n      <td>...</td>\n    </tr>\n    <tr>\n      <th>PALERMO</th>\n      <td>0.0</td>\n      <td>0.0</td>\n      <td>0.0</td>\n      <td>0.0</td>\n      <td>0.0</td>\n      <td>0.0</td>\n      <td>0.0</td>\n      <td>0.0</td>\n      <td>0.0</td>\n      <td>0.0</td>\n      <td>...</td>\n      <td>0.0</td>\n      <td>0.0</td>\n      <td>0.0</td>\n      <td>0.0</td>\n      <td>0.0</td>\n      <td>0.0</td>\n      <td>0.0</td>\n      <td>0.0</td>\n      <td>0.0</td>\n      <td>0.0</td>\n    </tr>\n    <tr>\n      <th>RAGUSA</th>\n      <td>0.0</td>\n      <td>0.0</td>\n      <td>0.0</td>\n      <td>0.0</td>\n      <td>0.0</td>\n      <td>0.0</td>\n      <td>0.0</td>\n      <td>0.0</td>\n      <td>0.0</td>\n      <td>0.0</td>\n      <td>...</td>\n      <td>0.0</td>\n      <td>0.0</td>\n      <td>0.0</td>\n      <td>0.0</td>\n      <td>0.0</td>\n      <td>0.0</td>\n      <td>0.0</td>\n      <td>0.0</td>\n      <td>0.0</td>\n      <td>0.0</td>\n    </tr>\n    <tr>\n      <th>SIRACUSA</th>\n      <td>0.0</td>\n      <td>0.0</td>\n      <td>0.0</td>\n      <td>0.0</td>\n      <td>0.0</td>\n      <td>0.0</td>\n      <td>0.0</td>\n      <td>0.0</td>\n      <td>0.0</td>\n      <td>0.0</td>\n      <td>...</td>\n      <td>0.0</td>\n      <td>0.0</td>\n      <td>0.0</td>\n      <td>0.0</td>\n      <td>0.0</td>\n      <td>0.0</td>\n      <td>0.0</td>\n      <td>0.0</td>\n      <td>0.0</td>\n      <td>0.0</td>\n    </tr>\n    <tr>\n      <th>TRAPANI</th>\n      <td>0.0</td>\n      <td>0.0</td>\n      <td>0.0</td>\n      <td>0.0</td>\n      <td>0.0</td>\n      <td>0.0</td>\n      <td>0.0</td>\n      <td>0.0</td>\n      <td>0.0</td>\n      <td>0.0</td>\n      <td>...</td>\n      <td>0.0</td>\n      <td>0.0</td>\n      <td>0.0</td>\n      <td>0.0</td>\n      <td>0.0</td>\n      <td>0.0</td>\n      <td>0.0</td>\n      <td>0.0</td>\n      <td>0.0</td>\n      <td>0.0</td>\n    </tr>\n    <tr>\n      <th>SASSARI</th>\n      <td>0.0</td>\n      <td>0.0</td>\n      <td>0.0</td>\n      <td>0.0</td>\n      <td>0.0</td>\n      <td>0.0</td>\n      <td>0.0</td>\n      <td>0.0</td>\n      <td>0.0</td>\n      <td>0.0</td>\n      <td>...</td>\n      <td>0.0</td>\n      <td>0.0</td>\n      <td>0.0</td>\n      <td>0.0</td>\n      <td>0.0</td>\n      <td>0.0</td>\n      <td>0.0</td>\n      <td>0.0</td>\n      <td>0.0</td>\n      <td>0.0</td>\n    </tr>\n  </tbody>\n</table>\n<p>97 rows × 97 columns</p>\n</div>"
     },
     "execution_count": 240,
     "metadata": {},
     "output_type": "execute_result"
    }
   ],
   "source": [
    "new_df = pd.DataFrame(np.zeros((len(lista_comuni), len(lista_comuni))),index = lista_comuni, columns = lista_comuni)\n",
    "new_df"
   ],
   "metadata": {
    "collapsed": false,
    "pycharm": {
     "name": "#%%\n"
    }
   }
  },
  {
   "cell_type": "code",
   "execution_count": 244,
   "outputs": [
    {
     "data": {
      "text/plain": "           COLLEGNO  CHIVASSO  CHIERI  VERCELLI  PONDERANO  NOVARA  OMEGNA  \\\nCOLLEGNO        0.0      27.0    21.0      72.0       63.0    92.0   110.0   \nCHIVASSO       27.0       0.0    20.0      44.0       41.0    64.0    86.0   \nCHIERI         21.0      20.0     0.0      58.0       61.0    79.0   106.0   \nVERCELLI       72.0      44.0    58.0       0.0       37.0    20.0    61.0   \nPONDERANO      63.0      41.0    61.0      37.0        0.0    45.0    46.0   \n...             ...       ...     ...       ...        ...     ...     ...   \nPALERMO       911.0     908.0   894.0     900.0      934.0   904.0   954.0   \nRAGUSA       1086.0    1082.0  1069.0    1072.0     1107.0  1076.0  1125.0   \nSIRACUSA     1101.0    1095.0  1083.0    1083.0     1119.0  1085.0  1135.0   \nTRAPANI       886.0     885.0   870.0     880.0      914.0   886.0   937.0   \nSASSARI       490.0     499.0   480.0     511.0      536.0   524.0   572.0   \n\n            CUNEO    ALBA    ASTI  ...  AGRIGENTO  CALTANISSETTA  CATANIA  \\\nCOLLEGNO     76.0    55.0    53.0  ...      999.0         1002.0   1049.0   \nCHIVASSO     92.0    55.0    40.0  ...      996.0          998.0   1044.0   \nCHIERI       72.0    38.0    32.0  ...      982.0          985.0   1031.0   \nVERCELLI    124.0    75.0    50.0  ...      989.0          989.0   1031.0   \nPONDERANO   133.0    93.0    72.0  ...     1024.0         1024.0   1067.0   \n...           ...     ...     ...  ...        ...            ...      ...   \nPALERMO     850.0   856.0   867.0  ...       91.0           92.0    166.0   \nRAGUSA     1027.0  1031.0  1042.0  ...      110.0           86.0     71.0   \nSIRACUSA   1043.0  1045.0  1054.0  ...      153.0          119.0     52.0   \nTRAPANI     821.0   831.0   845.0  ...      122.0          148.0    233.0   \nSASSARI     416.0   444.0   465.0  ...      576.0          595.0    667.0   \n\n             ENNA  MESSINA  PALERMO  RAGUSA  SIRACUSA  TRAPANI  SASSARI  \nCOLLEGNO   1005.0   1012.0    911.0  1086.0    1101.0    886.0    490.0  \nCHIVASSO   1000.0   1004.0    908.0  1082.0    1095.0    885.0    499.0  \nCHIERI      987.0    993.0    894.0  1069.0    1083.0    870.0    480.0  \nVERCELLI    990.0    988.0    900.0  1072.0    1083.0    880.0    511.0  \nPONDERANO  1026.0   1025.0    934.0  1107.0    1119.0    914.0    536.0  \n...           ...      ...      ...     ...       ...      ...      ...  \nPALERMO     101.0    192.0      0.0   179.0     206.0     75.0    504.0  \nRAGUSA       81.0    158.0    179.0     0.0      52.0    230.0    681.0  \nSIRACUSA    105.0    128.0    206.0    52.0       0.0    267.0    711.0  \nTRAPANI     163.0    266.0     75.0   230.0     267.0      0.0    454.0  \nSASSARI     605.0    663.0    504.0   681.0     711.0    454.0      0.0  \n\n[97 rows x 97 columns]",
      "text/html": "<div>\n<style scoped>\n    .dataframe tbody tr th:only-of-type {\n        vertical-align: middle;\n    }\n\n    .dataframe tbody tr th {\n        vertical-align: top;\n    }\n\n    .dataframe thead th {\n        text-align: right;\n    }\n</style>\n<table border=\"1\" class=\"dataframe\">\n  <thead>\n    <tr style=\"text-align: right;\">\n      <th></th>\n      <th>COLLEGNO</th>\n      <th>CHIVASSO</th>\n      <th>CHIERI</th>\n      <th>VERCELLI</th>\n      <th>PONDERANO</th>\n      <th>NOVARA</th>\n      <th>OMEGNA</th>\n      <th>CUNEO</th>\n      <th>ALBA</th>\n      <th>ASTI</th>\n      <th>...</th>\n      <th>AGRIGENTO</th>\n      <th>CALTANISSETTA</th>\n      <th>CATANIA</th>\n      <th>ENNA</th>\n      <th>MESSINA</th>\n      <th>PALERMO</th>\n      <th>RAGUSA</th>\n      <th>SIRACUSA</th>\n      <th>TRAPANI</th>\n      <th>SASSARI</th>\n    </tr>\n  </thead>\n  <tbody>\n    <tr>\n      <th>COLLEGNO</th>\n      <td>0.0</td>\n      <td>27.0</td>\n      <td>21.0</td>\n      <td>72.0</td>\n      <td>63.0</td>\n      <td>92.0</td>\n      <td>110.0</td>\n      <td>76.0</td>\n      <td>55.0</td>\n      <td>53.0</td>\n      <td>...</td>\n      <td>999.0</td>\n      <td>1002.0</td>\n      <td>1049.0</td>\n      <td>1005.0</td>\n      <td>1012.0</td>\n      <td>911.0</td>\n      <td>1086.0</td>\n      <td>1101.0</td>\n      <td>886.0</td>\n      <td>490.0</td>\n    </tr>\n    <tr>\n      <th>CHIVASSO</th>\n      <td>27.0</td>\n      <td>0.0</td>\n      <td>20.0</td>\n      <td>44.0</td>\n      <td>41.0</td>\n      <td>64.0</td>\n      <td>86.0</td>\n      <td>92.0</td>\n      <td>55.0</td>\n      <td>40.0</td>\n      <td>...</td>\n      <td>996.0</td>\n      <td>998.0</td>\n      <td>1044.0</td>\n      <td>1000.0</td>\n      <td>1004.0</td>\n      <td>908.0</td>\n      <td>1082.0</td>\n      <td>1095.0</td>\n      <td>885.0</td>\n      <td>499.0</td>\n    </tr>\n    <tr>\n      <th>CHIERI</th>\n      <td>21.0</td>\n      <td>20.0</td>\n      <td>0.0</td>\n      <td>58.0</td>\n      <td>61.0</td>\n      <td>79.0</td>\n      <td>106.0</td>\n      <td>72.0</td>\n      <td>38.0</td>\n      <td>32.0</td>\n      <td>...</td>\n      <td>982.0</td>\n      <td>985.0</td>\n      <td>1031.0</td>\n      <td>987.0</td>\n      <td>993.0</td>\n      <td>894.0</td>\n      <td>1069.0</td>\n      <td>1083.0</td>\n      <td>870.0</td>\n      <td>480.0</td>\n    </tr>\n    <tr>\n      <th>VERCELLI</th>\n      <td>72.0</td>\n      <td>44.0</td>\n      <td>58.0</td>\n      <td>0.0</td>\n      <td>37.0</td>\n      <td>20.0</td>\n      <td>61.0</td>\n      <td>124.0</td>\n      <td>75.0</td>\n      <td>50.0</td>\n      <td>...</td>\n      <td>989.0</td>\n      <td>989.0</td>\n      <td>1031.0</td>\n      <td>990.0</td>\n      <td>988.0</td>\n      <td>900.0</td>\n      <td>1072.0</td>\n      <td>1083.0</td>\n      <td>880.0</td>\n      <td>511.0</td>\n    </tr>\n    <tr>\n      <th>PONDERANO</th>\n      <td>63.0</td>\n      <td>41.0</td>\n      <td>61.0</td>\n      <td>37.0</td>\n      <td>0.0</td>\n      <td>45.0</td>\n      <td>46.0</td>\n      <td>133.0</td>\n      <td>93.0</td>\n      <td>72.0</td>\n      <td>...</td>\n      <td>1024.0</td>\n      <td>1024.0</td>\n      <td>1067.0</td>\n      <td>1026.0</td>\n      <td>1025.0</td>\n      <td>934.0</td>\n      <td>1107.0</td>\n      <td>1119.0</td>\n      <td>914.0</td>\n      <td>536.0</td>\n    </tr>\n    <tr>\n      <th>...</th>\n      <td>...</td>\n      <td>...</td>\n      <td>...</td>\n      <td>...</td>\n      <td>...</td>\n      <td>...</td>\n      <td>...</td>\n      <td>...</td>\n      <td>...</td>\n      <td>...</td>\n      <td>...</td>\n      <td>...</td>\n      <td>...</td>\n      <td>...</td>\n      <td>...</td>\n      <td>...</td>\n      <td>...</td>\n      <td>...</td>\n      <td>...</td>\n      <td>...</td>\n      <td>...</td>\n    </tr>\n    <tr>\n      <th>PALERMO</th>\n      <td>911.0</td>\n      <td>908.0</td>\n      <td>894.0</td>\n      <td>900.0</td>\n      <td>934.0</td>\n      <td>904.0</td>\n      <td>954.0</td>\n      <td>850.0</td>\n      <td>856.0</td>\n      <td>867.0</td>\n      <td>...</td>\n      <td>91.0</td>\n      <td>92.0</td>\n      <td>166.0</td>\n      <td>101.0</td>\n      <td>192.0</td>\n      <td>0.0</td>\n      <td>179.0</td>\n      <td>206.0</td>\n      <td>75.0</td>\n      <td>504.0</td>\n    </tr>\n    <tr>\n      <th>RAGUSA</th>\n      <td>1086.0</td>\n      <td>1082.0</td>\n      <td>1069.0</td>\n      <td>1072.0</td>\n      <td>1107.0</td>\n      <td>1076.0</td>\n      <td>1125.0</td>\n      <td>1027.0</td>\n      <td>1031.0</td>\n      <td>1042.0</td>\n      <td>...</td>\n      <td>110.0</td>\n      <td>86.0</td>\n      <td>71.0</td>\n      <td>81.0</td>\n      <td>158.0</td>\n      <td>179.0</td>\n      <td>0.0</td>\n      <td>52.0</td>\n      <td>230.0</td>\n      <td>681.0</td>\n    </tr>\n    <tr>\n      <th>SIRACUSA</th>\n      <td>1101.0</td>\n      <td>1095.0</td>\n      <td>1083.0</td>\n      <td>1083.0</td>\n      <td>1119.0</td>\n      <td>1085.0</td>\n      <td>1135.0</td>\n      <td>1043.0</td>\n      <td>1045.0</td>\n      <td>1054.0</td>\n      <td>...</td>\n      <td>153.0</td>\n      <td>119.0</td>\n      <td>52.0</td>\n      <td>105.0</td>\n      <td>128.0</td>\n      <td>206.0</td>\n      <td>52.0</td>\n      <td>0.0</td>\n      <td>267.0</td>\n      <td>711.0</td>\n    </tr>\n    <tr>\n      <th>TRAPANI</th>\n      <td>886.0</td>\n      <td>885.0</td>\n      <td>870.0</td>\n      <td>880.0</td>\n      <td>914.0</td>\n      <td>886.0</td>\n      <td>937.0</td>\n      <td>821.0</td>\n      <td>831.0</td>\n      <td>845.0</td>\n      <td>...</td>\n      <td>122.0</td>\n      <td>148.0</td>\n      <td>233.0</td>\n      <td>163.0</td>\n      <td>266.0</td>\n      <td>75.0</td>\n      <td>230.0</td>\n      <td>267.0</td>\n      <td>0.0</td>\n      <td>454.0</td>\n    </tr>\n    <tr>\n      <th>SASSARI</th>\n      <td>490.0</td>\n      <td>499.0</td>\n      <td>480.0</td>\n      <td>511.0</td>\n      <td>536.0</td>\n      <td>524.0</td>\n      <td>572.0</td>\n      <td>416.0</td>\n      <td>444.0</td>\n      <td>465.0</td>\n      <td>...</td>\n      <td>576.0</td>\n      <td>595.0</td>\n      <td>667.0</td>\n      <td>605.0</td>\n      <td>663.0</td>\n      <td>504.0</td>\n      <td>681.0</td>\n      <td>711.0</td>\n      <td>454.0</td>\n      <td>0.0</td>\n    </tr>\n  </tbody>\n</table>\n<p>97 rows × 97 columns</p>\n</div>"
     },
     "execution_count": 244,
     "metadata": {},
     "output_type": "execute_result"
    }
   ],
   "source": [
    "import main\n",
    "def fill_coords():\n",
    "    for i in range(len(lista_comuni)):\n",
    "        for j in range(len(lista_comuni)):\n",
    "            long1, lat1 = search_comune(lista_comuni[j])\n",
    "            long2, lat2 = search_comune(lista_comuni[i])\n",
    "            #print(long1,lat1,long2,lat2)\n",
    "            new_df[lista_comuni[i]][lista_comuni[j]] = main.calculate_distance(float(long1), float(lat1), float(long2), float(lat2))\n",
    "    return new_df\n",
    "fill_coords()"
   ],
   "metadata": {
    "collapsed": false,
    "pycharm": {
     "name": "#%%\n"
    }
   }
  },
  {
   "cell_type": "code",
   "execution_count": 238,
   "outputs": [
    {
     "name": "stdout",
     "output_type": "stream",
     "text": [
      "['COLLEGNO', 'CHIVASSO', 'CHIERI', 'VERCELLI', 'PONDERANO', 'NOVARA', 'OMEGNA', 'CUNEO', 'ALBA', 'ASTI', 'ALESSANDRIA', 'TORINO', 'AOSTA', 'MILANO', 'VARESE', 'SONDRIO', 'MONZA', 'BERGAMO', 'BRESCIA', 'MANTOVA', 'PAVIA', 'BOLZANO', 'TRENTO', 'BELLUNO', 'TREVISO', 'VENEZIA', 'SAN DONÀ DI PIAVE', 'ROVIGO', 'PADOVA', 'BASSANO DEL GRAPPA', 'VICENZA', 'VERONA', 'PORDENONE', 'UDINE', 'TRIESTE', 'SAN REMO', 'SAVONA', 'GENOVA', 'CHIAVARI', 'LA SPEZIA', 'PIACENZA', 'PARMA', \"REGGIO NELL'EMILIA\", 'MODENA', 'BOLOGNA', 'IMOLA', 'FERRARA', 'RAVENNA', 'FIRENZE', 'PISA', 'AREZZO', 'PERUGIA', 'TERNI', 'ANCONA', 'VITERBO', 'RIETI', 'LATINA', 'FROSINONE', 'ROMA', 'CIVITAVECCHIA', 'TIVOLI', 'ALBANO LAZIALE', \"L'AQUILA\", 'CHIETI', 'PESCARA', 'TERAMO', 'CAMPOBASSO', 'AVELLINO', 'BENEVENTO', 'CASERTA', 'NAPOLI', 'POZZUOLI', 'CASTELLAMMARE DI STABIA', 'SALERNO', 'BRINDISI', 'TARANTO', 'ANDRIA', 'BARI', 'FOGGIA', 'LECCE', 'POTENZA', 'MATERA', 'COSENZA', 'CROTONE', 'CATANZARO', 'VIBO VALENTIA', 'REGGIO DI CALABRIA', 'AGRIGENTO', 'CALTANISSETTA', 'CATANIA', 'ENNA', 'MESSINA', 'PALERMO', 'RAGUSA', 'SIRACUSA', 'TRAPANI', 'SASSARI']\n"
     ]
    }
   ],
   "source": [
    "index = lista_comuni.index(\"SAN DONA' DI PIAVE\")\n",
    "lista_comuni[index] = \"san donà di piave\".upper()\n",
    "print(lista_comuni)"
   ],
   "metadata": {
    "collapsed": false,
    "pycharm": {
     "name": "#%%\n"
    }
   }
  },
  {
   "cell_type": "code",
   "execution_count": 239,
   "outputs": [
    {
     "name": "stdout",
     "output_type": "stream",
     "text": [
      "['COLLEGNO', 'CHIVASSO', 'CHIERI', 'VERCELLI', 'PONDERANO', 'NOVARA', 'OMEGNA', 'CUNEO', 'ALBA', 'ASTI', 'ALESSANDRIA', 'TORINO', 'AOSTA', 'MILANO', 'VARESE', 'SONDRIO', 'MONZA', 'BERGAMO', 'BRESCIA', 'MANTOVA', 'PAVIA', 'BOLZANO', 'TRENTO', 'BELLUNO', 'TREVISO', 'VENEZIA', 'SAN DONÀ DI PIAVE', 'ROVIGO', 'PADOVA', 'BASSANO DEL GRAPPA', 'VICENZA', 'VERONA', 'PORDENONE', 'UDINE', 'TRIESTE', 'SANREMO', 'SAVONA', 'GENOVA', 'CHIAVARI', 'LA SPEZIA', 'PIACENZA', 'PARMA', \"REGGIO NELL'EMILIA\", 'MODENA', 'BOLOGNA', 'IMOLA', 'FERRARA', 'RAVENNA', 'FIRENZE', 'PISA', 'AREZZO', 'PERUGIA', 'TERNI', 'ANCONA', 'VITERBO', 'RIETI', 'LATINA', 'FROSINONE', 'ROMA', 'CIVITAVECCHIA', 'TIVOLI', 'ALBANO LAZIALE', \"L'AQUILA\", 'CHIETI', 'PESCARA', 'TERAMO', 'CAMPOBASSO', 'AVELLINO', 'BENEVENTO', 'CASERTA', 'NAPOLI', 'POZZUOLI', 'CASTELLAMMARE DI STABIA', 'SALERNO', 'BRINDISI', 'TARANTO', 'ANDRIA', 'BARI', 'FOGGIA', 'LECCE', 'POTENZA', 'MATERA', 'COSENZA', 'CROTONE', 'CATANZARO', 'VIBO VALENTIA', 'REGGIO DI CALABRIA', 'AGRIGENTO', 'CALTANISSETTA', 'CATANIA', 'ENNA', 'MESSINA', 'PALERMO', 'RAGUSA', 'SIRACUSA', 'TRAPANI', 'SASSARI']\n"
     ]
    }
   ],
   "source": [
    "index = lista_comuni.index(\"SAN REMO\")\n",
    "lista_comuni[index] = \"sanremo\".upper()\n",
    "print(lista_comuni)"
   ],
   "metadata": {
    "collapsed": false,
    "pycharm": {
     "name": "#%%\n"
    }
   }
  },
  {
   "cell_type": "code",
   "execution_count": 247,
   "outputs": [],
   "source": [
    "with open('weights.json', 'w', encoding='utf-8') as file:\n",
    "    new_df.to_json(file, force_ascii=False)"
   ],
   "metadata": {
    "collapsed": false,
    "pycharm": {
     "name": "#%%\n"
    }
   }
  }
 ],
 "metadata": {
  "kernelspec": {
   "display_name": "Python 3",
   "language": "python",
   "name": "python3"
  },
  "language_info": {
   "codemirror_mode": {
    "name": "ipython",
    "version": 2
   },
   "file_extension": ".py",
   "mimetype": "text/x-python",
   "name": "python",
   "nbconvert_exporter": "python",
   "pygments_lexer": "ipython2",
   "version": "2.7.6"
  }
 },
 "nbformat": 4,
 "nbformat_minor": 0
}