{
 "cells": [
  {
   "cell_type": "markdown",
   "metadata": {},
   "source": [
    "Rappresentazione grafica su scala Italiana del percorso"
   ]
  },
  {
   "cell_type": "code",
   "execution_count": 2,
   "metadata": {
    "pycharm": {
     "name": "#%%\n"
    }
   },
   "outputs": [
    {
     "data": {
      "text/plain": "       istat           comune         lng          lat\n0       1001            Agliè      7.7686    45.363433\n1       1002          Airasca  7.48443104    44.916886\n2       1003     Ala di Stura  7.30434392    45.315110\n3       1004  Albiano d'Ivrea  7.94914491    45.433893\n4       1005  Alice Superiore  7.77701858    45.460094\n...      ...              ...         ...          ...\n7975  111105      Villasimius  9.52036544    39.142384\n7976  111106         Villasor  8.94065031    39.380689\n7977  111107    Villaspeciosa  8.92693384    39.312805\n7978   Total                               7978.000000\n7979                      NaN         NaN          NaN\n\n[7980 rows x 4 columns]",
      "text/html": "<div>\n<style scoped>\n    .dataframe tbody tr th:only-of-type {\n        vertical-align: middle;\n    }\n\n    .dataframe tbody tr th {\n        vertical-align: top;\n    }\n\n    .dataframe thead th {\n        text-align: right;\n    }\n</style>\n<table border=\"1\" class=\"dataframe\">\n  <thead>\n    <tr style=\"text-align: right;\">\n      <th></th>\n      <th>istat</th>\n      <th>comune</th>\n      <th>lng</th>\n      <th>lat</th>\n    </tr>\n  </thead>\n  <tbody>\n    <tr>\n      <th>0</th>\n      <td>1001</td>\n      <td>Agliè</td>\n      <td>7.7686</td>\n      <td>45.363433</td>\n    </tr>\n    <tr>\n      <th>1</th>\n      <td>1002</td>\n      <td>Airasca</td>\n      <td>7.48443104</td>\n      <td>44.916886</td>\n    </tr>\n    <tr>\n      <th>2</th>\n      <td>1003</td>\n      <td>Ala di Stura</td>\n      <td>7.30434392</td>\n      <td>45.315110</td>\n    </tr>\n    <tr>\n      <th>3</th>\n      <td>1004</td>\n      <td>Albiano d'Ivrea</td>\n      <td>7.94914491</td>\n      <td>45.433893</td>\n    </tr>\n    <tr>\n      <th>4</th>\n      <td>1005</td>\n      <td>Alice Superiore</td>\n      <td>7.77701858</td>\n      <td>45.460094</td>\n    </tr>\n    <tr>\n      <th>...</th>\n      <td>...</td>\n      <td>...</td>\n      <td>...</td>\n      <td>...</td>\n    </tr>\n    <tr>\n      <th>7975</th>\n      <td>111105</td>\n      <td>Villasimius</td>\n      <td>9.52036544</td>\n      <td>39.142384</td>\n    </tr>\n    <tr>\n      <th>7976</th>\n      <td>111106</td>\n      <td>Villasor</td>\n      <td>8.94065031</td>\n      <td>39.380689</td>\n    </tr>\n    <tr>\n      <th>7977</th>\n      <td>111107</td>\n      <td>Villaspeciosa</td>\n      <td>8.92693384</td>\n      <td>39.312805</td>\n    </tr>\n    <tr>\n      <th>7978</th>\n      <td>Total</td>\n      <td></td>\n      <td></td>\n      <td>7978.000000</td>\n    </tr>\n    <tr>\n      <th>7979</th>\n      <td></td>\n      <td>NaN</td>\n      <td>NaN</td>\n      <td>NaN</td>\n    </tr>\n  </tbody>\n</table>\n<p>7980 rows × 4 columns</p>\n</div>"
     },
     "execution_count": 2,
     "metadata": {},
     "output_type": "execute_result"
    }
   ],
   "source": [
    "import numpy as np\n",
    "import pandas as pd\n",
    "\n",
    "geo = pd.read_json(\"data/italy_geo.json\")\n",
    "geo"
   ]
  },
  {
   "cell_type": "code",
   "execution_count": null,
   "metadata": {},
   "outputs": [],
   "source": []
  },
  {
   "cell_type": "code",
   "execution_count": 13,
   "outputs": [
    {
     "data": {
      "text/plain": "float"
     },
     "execution_count": 13,
     "metadata": {},
     "output_type": "execute_result"
    }
   ],
   "source": [
    "import numpy as np\n",
    "import pandas as pd\n",
    "x = geo[geo[\"comune\"] == \"Torino\"][\"lat\"].values[0]\n",
    "type(np.float64(x).item())"
   ],
   "metadata": {
    "collapsed": false,
    "pycharm": {
     "name": "#%%\n"
    }
   }
  },
  {
   "cell_type": "code",
   "execution_count": 23,
   "outputs": [
    {
     "name": "stderr",
     "output_type": "stream",
     "text": [
      "<ipython-input-23-3c55df8e0178>:2: SettingWithCopyWarning: \n",
      "A value is trying to be set on a copy of a slice from a DataFrame\n",
      "\n",
      "See the caveats in the documentation: https://pandas.pydata.org/pandas-docs/stable/user_guide/indexing.html#returning-a-view-versus-a-copy\n",
      "  geo[\"Distance\"][1] = [\"ciao\",\"come\",\"stai\"]\n"
     ]
    },
    {
     "data": {
      "text/plain": "       istat           comune         lng          lat            Distance\n0       1001            Agliè      7.7686    45.363433      <class 'list'>\n1       1002          Airasca  7.48443104    44.916886  [ciao, come, stai]\n2       1003     Ala di Stura  7.30434392    45.315110      <class 'list'>\n3       1004  Albiano d'Ivrea  7.94914491    45.433893      <class 'list'>\n4       1005  Alice Superiore  7.77701858    45.460094      <class 'list'>\n...      ...              ...         ...          ...                 ...\n7975  111105      Villasimius  9.52036544    39.142384      <class 'list'>\n7976  111106         Villasor  8.94065031    39.380689      <class 'list'>\n7977  111107    Villaspeciosa  8.92693384    39.312805      <class 'list'>\n7978   Total                               7978.000000      <class 'list'>\n7979                      NaN         NaN          NaN      <class 'list'>\n\n[7980 rows x 5 columns]",
      "text/html": "<div>\n<style scoped>\n    .dataframe tbody tr th:only-of-type {\n        vertical-align: middle;\n    }\n\n    .dataframe tbody tr th {\n        vertical-align: top;\n    }\n\n    .dataframe thead th {\n        text-align: right;\n    }\n</style>\n<table border=\"1\" class=\"dataframe\">\n  <thead>\n    <tr style=\"text-align: right;\">\n      <th></th>\n      <th>istat</th>\n      <th>comune</th>\n      <th>lng</th>\n      <th>lat</th>\n      <th>Distance</th>\n    </tr>\n  </thead>\n  <tbody>\n    <tr>\n      <th>0</th>\n      <td>1001</td>\n      <td>Agliè</td>\n      <td>7.7686</td>\n      <td>45.363433</td>\n      <td>&lt;class 'list'&gt;</td>\n    </tr>\n    <tr>\n      <th>1</th>\n      <td>1002</td>\n      <td>Airasca</td>\n      <td>7.48443104</td>\n      <td>44.916886</td>\n      <td>[ciao, come, stai]</td>\n    </tr>\n    <tr>\n      <th>2</th>\n      <td>1003</td>\n      <td>Ala di Stura</td>\n      <td>7.30434392</td>\n      <td>45.315110</td>\n      <td>&lt;class 'list'&gt;</td>\n    </tr>\n    <tr>\n      <th>3</th>\n      <td>1004</td>\n      <td>Albiano d'Ivrea</td>\n      <td>7.94914491</td>\n      <td>45.433893</td>\n      <td>&lt;class 'list'&gt;</td>\n    </tr>\n    <tr>\n      <th>4</th>\n      <td>1005</td>\n      <td>Alice Superiore</td>\n      <td>7.77701858</td>\n      <td>45.460094</td>\n      <td>&lt;class 'list'&gt;</td>\n    </tr>\n    <tr>\n      <th>...</th>\n      <td>...</td>\n      <td>...</td>\n      <td>...</td>\n      <td>...</td>\n      <td>...</td>\n    </tr>\n    <tr>\n      <th>7975</th>\n      <td>111105</td>\n      <td>Villasimius</td>\n      <td>9.52036544</td>\n      <td>39.142384</td>\n      <td>&lt;class 'list'&gt;</td>\n    </tr>\n    <tr>\n      <th>7976</th>\n      <td>111106</td>\n      <td>Villasor</td>\n      <td>8.94065031</td>\n      <td>39.380689</td>\n      <td>&lt;class 'list'&gt;</td>\n    </tr>\n    <tr>\n      <th>7977</th>\n      <td>111107</td>\n      <td>Villaspeciosa</td>\n      <td>8.92693384</td>\n      <td>39.312805</td>\n      <td>&lt;class 'list'&gt;</td>\n    </tr>\n    <tr>\n      <th>7978</th>\n      <td>Total</td>\n      <td></td>\n      <td></td>\n      <td>7978.000000</td>\n      <td>&lt;class 'list'&gt;</td>\n    </tr>\n    <tr>\n      <th>7979</th>\n      <td></td>\n      <td>NaN</td>\n      <td>NaN</td>\n      <td>NaN</td>\n      <td>&lt;class 'list'&gt;</td>\n    </tr>\n  </tbody>\n</table>\n<p>7980 rows × 5 columns</p>\n</div>"
     },
     "execution_count": 23,
     "metadata": {},
     "output_type": "execute_result"
    }
   ],
   "source": [
    "geo['Distance'] = list\n",
    "geo[\"Distance\"][1] = [\"ciao\",\"come\",\"stai\"]\n",
    "geo"
   ],
   "metadata": {
    "collapsed": false,
    "pycharm": {
     "name": "#%%\n"
    }
   }
  },
  {
   "cell_type": "code",
   "execution_count": 25,
   "outputs": [
    {
     "data": {
      "text/plain": "          city        lat       long  \\\n0     L'Aquila  42.351222  13.398438   \n1      Potenza  40.639470  15.805150   \n2    Catanzaro  38.905976  16.594404   \n3       Napoli  40.839566  14.250850   \n4      Bologna  44.494367  11.341721   \n5      Trieste  45.649435  13.768137   \n6         Roma  41.892770  12.483667   \n7       Genova  44.411493   8.932699   \n8       Milano  45.466794   9.190347   \n9       Ancona  43.616760  13.518875   \n10  Campobasso  41.557748  14.659161   \n11      Torino  45.073274   7.680687   \n12        Bari  41.125596  16.867370   \n13    Cagliari  39.215312   9.110616   \n14     Palermo  38.115697  13.362357   \n15     Firenze  43.769231  11.255889   \n16      Trento  46.068935  11.121231   \n17     Perugia  43.106758  12.388247   \n18       Aosta  45.737503   7.320149   \n19     Venezia  45.434905  12.338452   \n20     Bolzano  46.499335  11.356624   \n\n                                             Distance  \\\n0   [0, 420, 629, 245, 394, 687, 141, 551, 606, 19...   \n1   [376, 0, 319, 157, 712, 959, 366, 843, 908, 46...   \n2   [624, 319, 0, 405, 959, 1256, 614, 1091, 1156,...   \n3   [239, 157, 405, 0, 575, 871, 229, 707, 771, 44...   \n4   [396, 666, 961, 576, 0, 299, 380, 298, 213, 21...   \n5   [691, 961, 1258, 874, 301, 0, 677, 549, 420, 5...   \n6   [126, 366, 613, 229, 380, 676, 0, 500, 576, 30...   \n7   [549, 843, 1090, 705, 293, 538, 490, 0, 140, 5...   \n8   [611, 912, 1159, 775, 216, 415, 578, 148, 0, 4...   \n9   [191, 462, 816, 443, 216, 509, 301, 513, 428, ...   \n10  [190, 205, 481, 161, 530, 823, 230, 708, 742, ...   \n11  [727, 1029, 1276, 891, 332, 547, 695, 173, 143...   \n12  [400, 130, 355, 263, 667, 959, 430, 907, 878, ...   \n13  [716, 944, 841, 806, 762, 1058, 583, 767, 883,...   \n14  [938, 633, 383, 719, 1273, 1570, 927, 1405, 14...   \n15  [318, 611, 858, 474, 105, 401, 277, 233, 301, ...   \n16  [623, 924, 1171, 787, 228, 274, 590, 357, 228,...   \n17  [172, 510, 757, 372, 252, 532, 176, 384, 449, ...   \n18  [792, 1093, 1340, 956, 397, 591, 759, 248, 186...   \n19  [549, 819, 1116, 732, 159, 164, 535, 407, 278,...   \n20  [678, 979, 1226, 842, 283, 301, 645, 412, 283,...   \n\n                                              Minutes  \n0   [0, 282, 423, 204, 248, 420, 136, 378, 372, 12...  \n1   [266, 0, 212, 114, 425, 598, 231, 509, 541, 30...  \n2   [404, 211, 0, 252, 564, 740, 369, 647, 680, 50...  \n3   [186, 114, 251, 0, 345, 522, 151, 429, 461, 29...  \n4   [250, 426, 568, 350, 0, 200, 251, 211, 149, 14...  \n5   [420, 595, 740, 522, 199, 0, 423, 355, 269, 31...  \n6   [109, 232, 369, 151, 249, 426, 0, 326, 365, 21...  \n7   [378, 511, 648, 429, 198, 344, 325, 0, 113, 32...  \n8   [381, 551, 688, 470, 154, 274, 371, 130, 0, 27...  \n9   [129, 304, 499, 291, 147, 318, 215, 332, 270, ...  \n10  [176, 161, 311, 126, 343, 514, 173, 451, 466, ...  \n11  [449, 619, 757, 538, 222, 348, 439, 132, 118, ...  \n12  [258, 114, 246, 176, 405, 577, 283, 561, 528, ...  \n13  [882, 995, 975, 914, 795, 972, 794, 798, 870, ...  \n14  [635, 442, 286, 483, 795, 972, 601, 879, 911, ...  \n15  [236, 369, 506, 288, 87, 264, 189, 172, 203, 2...  \n16  [380, 550, 687, 468, 153, 225, 370, 251, 164, ...  \n17  [148, 314, 451, 232, 169, 347, 134, 252, 285, ...  \n18  [476, 646, 783, 565, 249, 364, 466, 166, 134, ...  \n19  [341, 516, 661, 442, 120, 124, 343, 276, 189, ...  \n20  [417, 588, 725, 506, 191, 264, 408, 289, 202, ...  ",
      "text/html": "<div>\n<style scoped>\n    .dataframe tbody tr th:only-of-type {\n        vertical-align: middle;\n    }\n\n    .dataframe tbody tr th {\n        vertical-align: top;\n    }\n\n    .dataframe thead th {\n        text-align: right;\n    }\n</style>\n<table border=\"1\" class=\"dataframe\">\n  <thead>\n    <tr style=\"text-align: right;\">\n      <th></th>\n      <th>city</th>\n      <th>lat</th>\n      <th>long</th>\n      <th>Distance</th>\n      <th>Minutes</th>\n    </tr>\n  </thead>\n  <tbody>\n    <tr>\n      <th>0</th>\n      <td>L'Aquila</td>\n      <td>42.351222</td>\n      <td>13.398438</td>\n      <td>[0, 420, 629, 245, 394, 687, 141, 551, 606, 19...</td>\n      <td>[0, 282, 423, 204, 248, 420, 136, 378, 372, 12...</td>\n    </tr>\n    <tr>\n      <th>1</th>\n      <td>Potenza</td>\n      <td>40.639470</td>\n      <td>15.805150</td>\n      <td>[376, 0, 319, 157, 712, 959, 366, 843, 908, 46...</td>\n      <td>[266, 0, 212, 114, 425, 598, 231, 509, 541, 30...</td>\n    </tr>\n    <tr>\n      <th>2</th>\n      <td>Catanzaro</td>\n      <td>38.905976</td>\n      <td>16.594404</td>\n      <td>[624, 319, 0, 405, 959, 1256, 614, 1091, 1156,...</td>\n      <td>[404, 211, 0, 252, 564, 740, 369, 647, 680, 50...</td>\n    </tr>\n    <tr>\n      <th>3</th>\n      <td>Napoli</td>\n      <td>40.839566</td>\n      <td>14.250850</td>\n      <td>[239, 157, 405, 0, 575, 871, 229, 707, 771, 44...</td>\n      <td>[186, 114, 251, 0, 345, 522, 151, 429, 461, 29...</td>\n    </tr>\n    <tr>\n      <th>4</th>\n      <td>Bologna</td>\n      <td>44.494367</td>\n      <td>11.341721</td>\n      <td>[396, 666, 961, 576, 0, 299, 380, 298, 213, 21...</td>\n      <td>[250, 426, 568, 350, 0, 200, 251, 211, 149, 14...</td>\n    </tr>\n    <tr>\n      <th>5</th>\n      <td>Trieste</td>\n      <td>45.649435</td>\n      <td>13.768137</td>\n      <td>[691, 961, 1258, 874, 301, 0, 677, 549, 420, 5...</td>\n      <td>[420, 595, 740, 522, 199, 0, 423, 355, 269, 31...</td>\n    </tr>\n    <tr>\n      <th>6</th>\n      <td>Roma</td>\n      <td>41.892770</td>\n      <td>12.483667</td>\n      <td>[126, 366, 613, 229, 380, 676, 0, 500, 576, 30...</td>\n      <td>[109, 232, 369, 151, 249, 426, 0, 326, 365, 21...</td>\n    </tr>\n    <tr>\n      <th>7</th>\n      <td>Genova</td>\n      <td>44.411493</td>\n      <td>8.932699</td>\n      <td>[549, 843, 1090, 705, 293, 538, 490, 0, 140, 5...</td>\n      <td>[378, 511, 648, 429, 198, 344, 325, 0, 113, 32...</td>\n    </tr>\n    <tr>\n      <th>8</th>\n      <td>Milano</td>\n      <td>45.466794</td>\n      <td>9.190347</td>\n      <td>[611, 912, 1159, 775, 216, 415, 578, 148, 0, 4...</td>\n      <td>[381, 551, 688, 470, 154, 274, 371, 130, 0, 27...</td>\n    </tr>\n    <tr>\n      <th>9</th>\n      <td>Ancona</td>\n      <td>43.616760</td>\n      <td>13.518875</td>\n      <td>[191, 462, 816, 443, 216, 509, 301, 513, 428, ...</td>\n      <td>[129, 304, 499, 291, 147, 318, 215, 332, 270, ...</td>\n    </tr>\n    <tr>\n      <th>10</th>\n      <td>Campobasso</td>\n      <td>41.557748</td>\n      <td>14.659161</td>\n      <td>[190, 205, 481, 161, 530, 823, 230, 708, 742, ...</td>\n      <td>[176, 161, 311, 126, 343, 514, 173, 451, 466, ...</td>\n    </tr>\n    <tr>\n      <th>11</th>\n      <td>Torino</td>\n      <td>45.073274</td>\n      <td>7.680687</td>\n      <td>[727, 1029, 1276, 891, 332, 547, 695, 173, 143...</td>\n      <td>[449, 619, 757, 538, 222, 348, 439, 132, 118, ...</td>\n    </tr>\n    <tr>\n      <th>12</th>\n      <td>Bari</td>\n      <td>41.125596</td>\n      <td>16.867370</td>\n      <td>[400, 130, 355, 263, 667, 959, 430, 907, 878, ...</td>\n      <td>[258, 114, 246, 176, 405, 577, 283, 561, 528, ...</td>\n    </tr>\n    <tr>\n      <th>13</th>\n      <td>Cagliari</td>\n      <td>39.215312</td>\n      <td>9.110616</td>\n      <td>[716, 944, 841, 806, 762, 1058, 583, 767, 883,...</td>\n      <td>[882, 995, 975, 914, 795, 972, 794, 798, 870, ...</td>\n    </tr>\n    <tr>\n      <th>14</th>\n      <td>Palermo</td>\n      <td>38.115697</td>\n      <td>13.362357</td>\n      <td>[938, 633, 383, 719, 1273, 1570, 927, 1405, 14...</td>\n      <td>[635, 442, 286, 483, 795, 972, 601, 879, 911, ...</td>\n    </tr>\n    <tr>\n      <th>15</th>\n      <td>Firenze</td>\n      <td>43.769231</td>\n      <td>11.255889</td>\n      <td>[318, 611, 858, 474, 105, 401, 277, 233, 301, ...</td>\n      <td>[236, 369, 506, 288, 87, 264, 189, 172, 203, 2...</td>\n    </tr>\n    <tr>\n      <th>16</th>\n      <td>Trento</td>\n      <td>46.068935</td>\n      <td>11.121231</td>\n      <td>[623, 924, 1171, 787, 228, 274, 590, 357, 228,...</td>\n      <td>[380, 550, 687, 468, 153, 225, 370, 251, 164, ...</td>\n    </tr>\n    <tr>\n      <th>17</th>\n      <td>Perugia</td>\n      <td>43.106758</td>\n      <td>12.388247</td>\n      <td>[172, 510, 757, 372, 252, 532, 176, 384, 449, ...</td>\n      <td>[148, 314, 451, 232, 169, 347, 134, 252, 285, ...</td>\n    </tr>\n    <tr>\n      <th>18</th>\n      <td>Aosta</td>\n      <td>45.737503</td>\n      <td>7.320149</td>\n      <td>[792, 1093, 1340, 956, 397, 591, 759, 248, 186...</td>\n      <td>[476, 646, 783, 565, 249, 364, 466, 166, 134, ...</td>\n    </tr>\n    <tr>\n      <th>19</th>\n      <td>Venezia</td>\n      <td>45.434905</td>\n      <td>12.338452</td>\n      <td>[549, 819, 1116, 732, 159, 164, 535, 407, 278,...</td>\n      <td>[341, 516, 661, 442, 120, 124, 343, 276, 189, ...</td>\n    </tr>\n    <tr>\n      <th>20</th>\n      <td>Bolzano</td>\n      <td>46.499335</td>\n      <td>11.356624</td>\n      <td>[678, 979, 1226, 842, 283, 301, 645, 412, 283,...</td>\n      <td>[417, 588, 725, 506, 191, 264, 408, 289, 202, ...</td>\n    </tr>\n  </tbody>\n</table>\n</div>"
     },
     "execution_count": 25,
     "metadata": {},
     "output_type": "execute_result"
    }
   ],
   "source": [
    "sasso = pd.read_json(\"percorsi.json\")\n",
    "sasso"
   ],
   "metadata": {
    "collapsed": false,
    "pycharm": {
     "name": "#%%\n"
    }
   }
  },
  {
   "cell_type": "code",
   "execution_count": 26,
   "outputs": [
    {
     "data": {
      "text/plain": "          city        lat       long  \\\n0     L'Aquila  42.351222  13.398438   \n1      Potenza  40.639470  15.805150   \n2    Catanzaro  38.905976  16.594404   \n3       Napoli  40.839566  14.250850   \n4      Bologna  44.494367  11.341721   \n5      Trieste  45.649435  13.768137   \n6         Roma  41.892770  12.483667   \n7       Genova  44.411493   8.932699   \n8       Milano  45.466794   9.190347   \n9       Ancona  43.616760  13.518875   \n10  Campobasso  41.557748  14.659161   \n11      Torino  45.073274   7.680687   \n12        Bari  41.125596  16.867370   \n13    Cagliari  39.215312   9.110616   \n14     Palermo  38.115697  13.362357   \n15     Firenze  43.769231  11.255889   \n16      Trento  46.068935  11.121231   \n17     Perugia  43.106758  12.388247   \n18       Aosta  45.737503   7.320149   \n19     Venezia  45.434905  12.338452   \n20     Bolzano  46.499335  11.356624   \n\n                                             Distance  \\\n0   [0, 370, 618, 233, 394, 687, 141, 596, 606, 19...   \n1   [370, 0, 319, 157, 659, 951, 367, 843, 908, 45...   \n2   [617, 319, 0, 405, 959, 1256, 614, 1091, 1156,...   \n3   [233, 157, 405, 0, 575, 871, 230, 707, 771, 42...   \n4   [396, 658, 961, 576, 0, 299, 380, 298, 213, 21...   \n5   [691, 953, 1258, 874, 301, 0, 677, 549, 420, 5...   \n6   [119, 366, 613, 229, 380, 676, 0, 512, 576, 30...   \n7   [596, 843, 1090, 705, 293, 538, 490, 0, 140, 5...   \n8   [610, 873, 1158, 774, 215, 414, 577, 148, 0, 4...   \n9   [191, 454, 772, 419, 216, 509, 306, 513, 428, ...   \n10  [190, 198, 481, 126, 530, 823, 231, 708, 742, ...   \n11  [727, 990, 1275, 891, 332, 549, 694, 172, 144,...   \n12  [400, 130, 355, 263, 667, 959, 431, 907, 878, ...   \n13  [709, 944, 841, 806, 762, 1058, 583, 767, 883,...   \n14  [927, 629, 379, 714, 1269, 1565, 924, 1401, 14...   \n15  [365, 611, 858, 474, 104, 400, 277, 236, 300, ...   \n16  [623, 885, 1171, 787, 228, 274, 590, 357, 228,...   \n17  [172, 510, 757, 372, 252, 532, 176, 384, 449, ...   \n18  [806, 1107, 1354, 970, 411, 604, 773, 262, 200...   \n19  [549, 811, 1116, 732, 159, 164, 535, 407, 278,...   \n20  [678, 979, 1226, 841, 282, 302, 645, 412, 283,...   \n\n                                              Minutes  \n0   [0, 249, 387, 168, 248, 420, 135, 369, 372, 12...  \n1   [248, 0, 212, 114, 421, 593, 230, 509, 541, 30...  \n2   [387, 211, 0, 252, 564, 740, 368, 647, 680, 49...  \n3   [168, 114, 251, 0, 345, 522, 150, 429, 461, 28...  \n4   [250, 420, 568, 350, 0, 200, 251, 211, 149, 14...  \n5   [420, 590, 740, 522, 199, 0, 423, 355, 269, 31...  \n6   [92, 232, 369, 151, 249, 426, 0, 333, 365, 203...  \n7   [371, 511, 648, 429, 198, 344, 325, 0, 112, 32...  \n8   [377, 547, 684, 466, 150, 270, 367, 126, 0, 27...  \n9   [129, 299, 493, 280, 147, 318, 201, 332, 270, ...  \n10  [176, 156, 311, 126, 343, 514, 172, 451, 466, ...  \n11  [447, 617, 754, 536, 220, 347, 437, 130, 116, ...  \n12  [258, 109, 246, 176, 405, 577, 282, 561, 528, ...  \n13  [864, 995, 974, 914, 795, 972, 794, 798, 870, ...  \n14  [619, 443, 287, 484, 796, 973, 601, 880, 912, ...  \n15  [229, 369, 506, 287, 83, 260, 189, 167, 199, 2...  \n16  [380, 550, 687, 468, 153, 225, 370, 251, 164, ...  \n17  [148, 314, 451, 232, 169, 347, 134, 252, 285, ...  \n18  [484, 654, 792, 573, 258, 373, 475, 176, 143, ...  \n19  [341, 511, 661, 442, 120, 124, 343, 276, 189, ...  \n20  [419, 589, 726, 508, 192, 267, 409, 290, 203, ...  ",
      "text/html": "<div>\n<style scoped>\n    .dataframe tbody tr th:only-of-type {\n        vertical-align: middle;\n    }\n\n    .dataframe tbody tr th {\n        vertical-align: top;\n    }\n\n    .dataframe thead th {\n        text-align: right;\n    }\n</style>\n<table border=\"1\" class=\"dataframe\">\n  <thead>\n    <tr style=\"text-align: right;\">\n      <th></th>\n      <th>city</th>\n      <th>lat</th>\n      <th>long</th>\n      <th>Distance</th>\n      <th>Minutes</th>\n    </tr>\n  </thead>\n  <tbody>\n    <tr>\n      <th>0</th>\n      <td>L'Aquila</td>\n      <td>42.351222</td>\n      <td>13.398438</td>\n      <td>[0, 370, 618, 233, 394, 687, 141, 596, 606, 19...</td>\n      <td>[0, 249, 387, 168, 248, 420, 135, 369, 372, 12...</td>\n    </tr>\n    <tr>\n      <th>1</th>\n      <td>Potenza</td>\n      <td>40.639470</td>\n      <td>15.805150</td>\n      <td>[370, 0, 319, 157, 659, 951, 367, 843, 908, 45...</td>\n      <td>[248, 0, 212, 114, 421, 593, 230, 509, 541, 30...</td>\n    </tr>\n    <tr>\n      <th>2</th>\n      <td>Catanzaro</td>\n      <td>38.905976</td>\n      <td>16.594404</td>\n      <td>[617, 319, 0, 405, 959, 1256, 614, 1091, 1156,...</td>\n      <td>[387, 211, 0, 252, 564, 740, 368, 647, 680, 49...</td>\n    </tr>\n    <tr>\n      <th>3</th>\n      <td>Napoli</td>\n      <td>40.839566</td>\n      <td>14.250850</td>\n      <td>[233, 157, 405, 0, 575, 871, 230, 707, 771, 42...</td>\n      <td>[168, 114, 251, 0, 345, 522, 150, 429, 461, 28...</td>\n    </tr>\n    <tr>\n      <th>4</th>\n      <td>Bologna</td>\n      <td>44.494367</td>\n      <td>11.341721</td>\n      <td>[396, 658, 961, 576, 0, 299, 380, 298, 213, 21...</td>\n      <td>[250, 420, 568, 350, 0, 200, 251, 211, 149, 14...</td>\n    </tr>\n    <tr>\n      <th>5</th>\n      <td>Trieste</td>\n      <td>45.649435</td>\n      <td>13.768137</td>\n      <td>[691, 953, 1258, 874, 301, 0, 677, 549, 420, 5...</td>\n      <td>[420, 590, 740, 522, 199, 0, 423, 355, 269, 31...</td>\n    </tr>\n    <tr>\n      <th>6</th>\n      <td>Roma</td>\n      <td>41.892770</td>\n      <td>12.483667</td>\n      <td>[119, 366, 613, 229, 380, 676, 0, 512, 576, 30...</td>\n      <td>[92, 232, 369, 151, 249, 426, 0, 333, 365, 203...</td>\n    </tr>\n    <tr>\n      <th>7</th>\n      <td>Genova</td>\n      <td>44.411493</td>\n      <td>8.932699</td>\n      <td>[596, 843, 1090, 705, 293, 538, 490, 0, 140, 5...</td>\n      <td>[371, 511, 648, 429, 198, 344, 325, 0, 112, 32...</td>\n    </tr>\n    <tr>\n      <th>8</th>\n      <td>Milano</td>\n      <td>45.466794</td>\n      <td>9.190347</td>\n      <td>[610, 873, 1158, 774, 215, 414, 577, 148, 0, 4...</td>\n      <td>[377, 547, 684, 466, 150, 270, 367, 126, 0, 27...</td>\n    </tr>\n    <tr>\n      <th>9</th>\n      <td>Ancona</td>\n      <td>43.616760</td>\n      <td>13.518875</td>\n      <td>[191, 454, 772, 419, 216, 509, 306, 513, 428, ...</td>\n      <td>[129, 299, 493, 280, 147, 318, 201, 332, 270, ...</td>\n    </tr>\n    <tr>\n      <th>10</th>\n      <td>Campobasso</td>\n      <td>41.557748</td>\n      <td>14.659161</td>\n      <td>[190, 198, 481, 126, 530, 823, 231, 708, 742, ...</td>\n      <td>[176, 156, 311, 126, 343, 514, 172, 451, 466, ...</td>\n    </tr>\n    <tr>\n      <th>11</th>\n      <td>Torino</td>\n      <td>45.073274</td>\n      <td>7.680687</td>\n      <td>[727, 990, 1275, 891, 332, 549, 694, 172, 144,...</td>\n      <td>[447, 617, 754, 536, 220, 347, 437, 130, 116, ...</td>\n    </tr>\n    <tr>\n      <th>12</th>\n      <td>Bari</td>\n      <td>41.125596</td>\n      <td>16.867370</td>\n      <td>[400, 130, 355, 263, 667, 959, 431, 907, 878, ...</td>\n      <td>[258, 109, 246, 176, 405, 577, 282, 561, 528, ...</td>\n    </tr>\n    <tr>\n      <th>13</th>\n      <td>Cagliari</td>\n      <td>39.215312</td>\n      <td>9.110616</td>\n      <td>[709, 944, 841, 806, 762, 1058, 583, 767, 883,...</td>\n      <td>[864, 995, 974, 914, 795, 972, 794, 798, 870, ...</td>\n    </tr>\n    <tr>\n      <th>14</th>\n      <td>Palermo</td>\n      <td>38.115697</td>\n      <td>13.362357</td>\n      <td>[927, 629, 379, 714, 1269, 1565, 924, 1401, 14...</td>\n      <td>[619, 443, 287, 484, 796, 973, 601, 880, 912, ...</td>\n    </tr>\n    <tr>\n      <th>15</th>\n      <td>Firenze</td>\n      <td>43.769231</td>\n      <td>11.255889</td>\n      <td>[365, 611, 858, 474, 104, 400, 277, 236, 300, ...</td>\n      <td>[229, 369, 506, 287, 83, 260, 189, 167, 199, 2...</td>\n    </tr>\n    <tr>\n      <th>16</th>\n      <td>Trento</td>\n      <td>46.068935</td>\n      <td>11.121231</td>\n      <td>[623, 885, 1171, 787, 228, 274, 590, 357, 228,...</td>\n      <td>[380, 550, 687, 468, 153, 225, 370, 251, 164, ...</td>\n    </tr>\n    <tr>\n      <th>17</th>\n      <td>Perugia</td>\n      <td>43.106758</td>\n      <td>12.388247</td>\n      <td>[172, 510, 757, 372, 252, 532, 176, 384, 449, ...</td>\n      <td>[148, 314, 451, 232, 169, 347, 134, 252, 285, ...</td>\n    </tr>\n    <tr>\n      <th>18</th>\n      <td>Aosta</td>\n      <td>45.737503</td>\n      <td>7.320149</td>\n      <td>[806, 1107, 1354, 970, 411, 604, 773, 262, 200...</td>\n      <td>[484, 654, 792, 573, 258, 373, 475, 176, 143, ...</td>\n    </tr>\n    <tr>\n      <th>19</th>\n      <td>Venezia</td>\n      <td>45.434905</td>\n      <td>12.338452</td>\n      <td>[549, 811, 1116, 732, 159, 164, 535, 407, 278,...</td>\n      <td>[341, 511, 661, 442, 120, 124, 343, 276, 189, ...</td>\n    </tr>\n    <tr>\n      <th>20</th>\n      <td>Bolzano</td>\n      <td>46.499335</td>\n      <td>11.356624</td>\n      <td>[678, 979, 1226, 841, 282, 302, 645, 412, 283,...</td>\n      <td>[419, 589, 726, 508, 192, 267, 409, 290, 203, ...</td>\n    </tr>\n  </tbody>\n</table>\n</div>"
     },
     "execution_count": 26,
     "metadata": {},
     "output_type": "execute_result"
    }
   ],
   "source": [
    "new = pd.read_json(\"percorsi.json\")\n",
    "new"
   ],
   "metadata": {
    "collapsed": false,
    "pycharm": {
     "name": "#%%\n"
    }
   }
  },
  {
   "cell_type": "code",
   "execution_count": null,
   "outputs": [],
   "source": [
    "new = pd.read_json(\"data/weights.json\")\n",
    "new"
   ],
   "metadata": {
    "collapsed": false,
    "pycharm": {
     "name": "#%%\n"
    }
   }
  }
 ],
 "metadata": {
  "kernelspec": {
   "display_name": "Python 3",
   "language": "python",
   "name": "python3"
  },
  "language_info": {
   "codemirror_mode": {
    "name": "ipython",
    "version": 3
   },
   "file_extension": ".py",
   "mimetype": "text/x-python",
   "name": "python",
   "nbconvert_exporter": "python",
   "pygments_lexer": "ipython3",
   "version": "3.8.3"
  }
 },
 "nbformat": 4,
 "nbformat_minor": 1
}